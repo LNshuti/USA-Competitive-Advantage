{
 "cells": [
  {
   "cell_type": "code",
   "execution_count": 1,
   "metadata": {},
   "outputs": [
    {
     "name": "stderr",
     "output_type": "stream",
     "text": [
      "c:\\Users\\Leonce Nshuti\\miniconda3\\lib\\site-packages\\numpy\\_distributor_init.py:30: UserWarning: loaded more than 1 DLL from .libs:\n",
      "c:\\Users\\Leonce Nshuti\\miniconda3\\lib\\site-packages\\numpy\\.libs\\libopenblas.GK7GX5KEQ4F6UYO3P26ULGBQYHGQO7J4.gfortran-win_amd64.dll\n",
      "c:\\Users\\Leonce Nshuti\\miniconda3\\lib\\site-packages\\numpy\\.libs\\libopenblas.XWYDX2IKJW2NMTWSFYNGFUWKQU3LYTCZ.gfortran-win_amd64.dll\n",
      "  warnings.warn(\"loaded more than 1 DLL from .libs:\"\n"
     ]
    }
   ],
   "source": [
    "import pandas as pd \n",
    "import numpy as np\n",
    "import polars as pl"
   ]
  },
  {
   "cell_type": "code",
   "execution_count": 2,
   "metadata": {},
   "outputs": [],
   "source": [
    "usa_df = pd.read_csv('What did United States of America export in 2020_.csv')"
   ]
  },
  {
   "cell_type": "code",
   "execution_count": 3,
   "metadata": {},
   "outputs": [
    {
     "data": {
      "text/html": [
       "<div>\n",
       "<style scoped>\n",
       "    .dataframe tbody tr th:only-of-type {\n",
       "        vertical-align: middle;\n",
       "    }\n",
       "\n",
       "    .dataframe tbody tr th {\n",
       "        vertical-align: top;\n",
       "    }\n",
       "\n",
       "    .dataframe thead th {\n",
       "        text-align: right;\n",
       "    }\n",
       "</style>\n",
       "<table border=\"1\" class=\"dataframe\">\n",
       "  <thead>\n",
       "    <tr style=\"text-align: right;\">\n",
       "      <th></th>\n",
       "      <th>Name</th>\n",
       "      <th>Gross Export</th>\n",
       "      <th>Share</th>\n",
       "      <th>Code</th>\n",
       "      <th>Sector</th>\n",
       "    </tr>\n",
       "  </thead>\n",
       "  <tbody>\n",
       "    <tr>\n",
       "      <th>1220</th>\n",
       "      <td>ICT</td>\n",
       "      <td>411356004352</td>\n",
       "      <td>19.349264</td>\n",
       "      <td>ict</td>\n",
       "      <td>Services</td>\n",
       "    </tr>\n",
       "    <tr>\n",
       "      <th>1221</th>\n",
       "      <td>Insurance and finance</td>\n",
       "      <td>164774002688</td>\n",
       "      <td>7.750600</td>\n",
       "      <td>financial</td>\n",
       "      <td>Services</td>\n",
       "    </tr>\n",
       "    <tr>\n",
       "      <th>1217</th>\n",
       "      <td>Commodities not specified according to kind</td>\n",
       "      <td>99046727680</td>\n",
       "      <td>4.658936</td>\n",
       "      <td>9999</td>\n",
       "      <td>Other</td>\n",
       "    </tr>\n",
       "    <tr>\n",
       "      <th>1218</th>\n",
       "      <td>Travel and tourism</td>\n",
       "      <td>72812003328</td>\n",
       "      <td>3.424913</td>\n",
       "      <td>travel</td>\n",
       "      <td>Services</td>\n",
       "    </tr>\n",
       "    <tr>\n",
       "      <th>256</th>\n",
       "      <td>Petroleum oils, refined</td>\n",
       "      <td>58943705088</td>\n",
       "      <td>2.772580</td>\n",
       "      <td>2710</td>\n",
       "      <td>Minerals</td>\n",
       "    </tr>\n",
       "    <tr>\n",
       "      <th>1219</th>\n",
       "      <td>Transport</td>\n",
       "      <td>56705003520</td>\n",
       "      <td>2.667276</td>\n",
       "      <td>transport</td>\n",
       "      <td>Services</td>\n",
       "    </tr>\n",
       "    <tr>\n",
       "      <th>255</th>\n",
       "      <td>Petroleum oils, crude</td>\n",
       "      <td>48737878016</td>\n",
       "      <td>2.292521</td>\n",
       "      <td>2709</td>\n",
       "      <td>Minerals</td>\n",
       "    </tr>\n",
       "    <tr>\n",
       "      <th>1075</th>\n",
       "      <td>Electronic integrated circuits</td>\n",
       "      <td>44789907456</td>\n",
       "      <td>2.106817</td>\n",
       "      <td>8542</td>\n",
       "      <td>Electronics</td>\n",
       "    </tr>\n",
       "    <tr>\n",
       "      <th>1093</th>\n",
       "      <td>Cars</td>\n",
       "      <td>44460650496</td>\n",
       "      <td>2.091329</td>\n",
       "      <td>8703</td>\n",
       "      <td>Vehicles</td>\n",
       "    </tr>\n",
       "    <tr>\n",
       "      <th>257</th>\n",
       "      <td>Petroleum gases</td>\n",
       "      <td>32576303104</td>\n",
       "      <td>1.532316</td>\n",
       "      <td>2711</td>\n",
       "      <td>Minerals</td>\n",
       "    </tr>\n",
       "  </tbody>\n",
       "</table>\n",
       "</div>"
      ],
      "text/plain": [
       "                                             Name  Gross Export      Share  \\\n",
       "1220                                          ICT  411356004352  19.349264   \n",
       "1221                        Insurance and finance  164774002688   7.750600   \n",
       "1217  Commodities not specified according to kind   99046727680   4.658936   \n",
       "1218                           Travel and tourism   72812003328   3.424913   \n",
       "256                       Petroleum oils, refined   58943705088   2.772580   \n",
       "1219                                    Transport   56705003520   2.667276   \n",
       "255                         Petroleum oils, crude   48737878016   2.292521   \n",
       "1075               Electronic integrated circuits   44789907456   2.106817   \n",
       "1093                                         Cars   44460650496   2.091329   \n",
       "257                               Petroleum gases   32576303104   1.532316   \n",
       "\n",
       "           Code       Sector  \n",
       "1220        ict     Services  \n",
       "1221  financial     Services  \n",
       "1217       9999        Other  \n",
       "1218     travel     Services  \n",
       "256        2710     Minerals  \n",
       "1219  transport     Services  \n",
       "255        2709     Minerals  \n",
       "1075       8542  Electronics  \n",
       "1093       8703     Vehicles  \n",
       "257        2711     Minerals  "
      ]
     },
     "execution_count": 3,
     "metadata": {},
     "output_type": "execute_result"
    }
   ],
   "source": [
    "# sort by Share \n",
    "usa_df = usa_df.sort_values(by='Share', ascending=False)\n",
    "\n",
    "# get top 10\n",
    "usa_df = usa_df.head(10)\n",
    "usa_df"
   ]
  },
  {
   "cell_type": "code",
   "execution_count": 7,
   "metadata": {},
   "outputs": [
    {
     "data": {
      "image/png": "[encoded data removed]",
      "text/plain": [
       "<Figure size 432x288 with 1 Axes>"
      ]
     },
     "metadata": {
      "needs_background": "light"
     },
     "output_type": "display_data"
    }
   ],
   "source": [
    "# PLot tree map by Name and Share \n",
    "\n",
    "import squarify\n",
    "import matplotlib.pyplot as plt\n",
    "\n",
    "# plot\n",
    "squarify.plot(sizes=usa_df['Share'], label=usa_df['Sector'], alpha=.8, color=['red', 'green', 'blue', 'orange', 'yellow', 'purple', 'pink', 'grey', 'brown', 'black'])\n",
    "plt.axis('off')\n",
    "plt.show()"
   ]
  }
 ],
 "metadata": {
  "kernelspec": {
   "display_name": "Python 3",
   "language": "python",
   "name": "python3"
  },
  "language_info": {
   "codemirror_mode": {
    "name": "ipython",
    "version": 3
   },
   "file_extension": ".py",
   "mimetype": "text/x-python",
   "name": "python",
   "nbconvert_exporter": "python",
   "pygments_lexer": "ipython3",
   "version": "3.8.13"
  },
  "orig_nbformat": 4
 },
 "nbformat": 4,
 "nbformat_minor": 2
}
